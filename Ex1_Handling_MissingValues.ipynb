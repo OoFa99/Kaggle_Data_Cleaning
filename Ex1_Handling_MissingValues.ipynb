{
 "cells": [
  {
   "cell_type": "markdown",
   "id": "46414e20",
   "metadata": {
    "papermill": {
     "duration": 0.007632,
     "end_time": "2023-02-25T10:52:42.249962",
     "exception": false,
     "start_time": "2023-02-25T10:52:42.242330",
     "status": "completed"
    },
    "tags": []
   },
   "source": [
    "**This notebook is an exercise in the [Data Cleaning](https://www.kaggle.com/learn/data-cleaning) course.  You can reference the tutorial at [this link](https://www.kaggle.com/alexisbcook/handling-missing-values).**\n",
    "\n",
    "---\n"
   ]
  },
  {
   "cell_type": "markdown",
   "id": "55bc4e30",
   "metadata": {
    "papermill": {
     "duration": 0.00622,
     "end_time": "2023-02-25T10:52:42.262769",
     "exception": false,
     "start_time": "2023-02-25T10:52:42.256549",
     "status": "completed"
    },
    "tags": []
   },
   "source": [
    "In this exercise, you'll apply what you learned in the **Handling missing values** tutorial.\n",
    "\n",
    "# Setup\n",
    "\n",
    "The questions below will give you feedback on your work. Run the following cell to set up the feedback system."
   ]
  },
  {
   "cell_type": "code",
   "execution_count": 1,
   "id": "f6f08a47",
   "metadata": {
    "execution": {
     "iopub.execute_input": "2023-02-25T10:52:42.278010Z",
     "iopub.status.busy": "2023-02-25T10:52:42.277371Z",
     "iopub.status.idle": "2023-02-25T10:52:46.771052Z",
     "shell.execute_reply": "2023-02-25T10:52:46.768822Z"
    },
    "papermill": {
     "duration": 4.505789,
     "end_time": "2023-02-25T10:52:46.774988",
     "exception": false,
     "start_time": "2023-02-25T10:52:42.269199",
     "status": "completed"
    },
    "tags": []
   },
   "outputs": [
    {
     "name": "stderr",
     "output_type": "stream",
     "text": [
      "/opt/conda/lib/python3.7/site-packages/ipykernel_launcher.py:3: DtypeWarning: Columns (22,32) have mixed types.Specify dtype option on import or set low_memory=False.\n",
      "  This is separate from the ipykernel package so we can avoid doing imports until\n"
     ]
    },
    {
     "name": "stdout",
     "output_type": "stream",
     "text": [
      "Setup Complete\n"
     ]
    }
   ],
   "source": [
    "from learntools.core import binder\n",
    "binder.bind(globals())\n",
    "from learntools.data_cleaning.ex1 import *\n",
    "print(\"Setup Complete\")"
   ]
  },
  {
   "cell_type": "markdown",
   "id": "4b5472f1",
   "metadata": {
    "papermill": {
     "duration": 0.006524,
     "end_time": "2023-02-25T10:52:46.788926",
     "exception": false,
     "start_time": "2023-02-25T10:52:46.782402",
     "status": "completed"
    },
    "tags": []
   },
   "source": [
    "# 1) Take a first look at the data\n",
    "\n",
    "Run the next code cell to load in the libraries and dataset you'll use to complete the exercise."
   ]
  },
  {
   "cell_type": "code",
   "execution_count": 2,
   "id": "65e650fb",
   "metadata": {
    "execution": {
     "iopub.execute_input": "2023-02-25T10:52:46.805373Z",
     "iopub.status.busy": "2023-02-25T10:52:46.804070Z",
     "iopub.status.idle": "2023-02-25T10:52:48.586229Z",
     "shell.execute_reply": "2023-02-25T10:52:48.583946Z"
    },
    "papermill": {
     "duration": 1.793264,
     "end_time": "2023-02-25T10:52:48.588995",
     "exception": false,
     "start_time": "2023-02-25T10:52:46.795731",
     "status": "completed"
    },
    "tags": []
   },
   "outputs": [
    {
     "name": "stderr",
     "output_type": "stream",
     "text": [
      "/opt/conda/lib/python3.7/site-packages/IPython/core/interactiveshell.py:3553: DtypeWarning: Columns (22,32) have mixed types.Specify dtype option on import or set low_memory=False.\n",
      "  exec(code_obj, self.user_global_ns, self.user_ns)\n"
     ]
    }
   ],
   "source": [
    "# modules we'll use\n",
    "import pandas as pd\n",
    "import numpy as np\n",
    "\n",
    "# read in all our data\n",
    "sf_permits = pd.read_csv(\"../input/building-permit-applications-data/Building_Permits.csv\")\n",
    "\n",
    "# set seed for reproducibility\n",
    "np.random.seed(0) "
   ]
  },
  {
   "cell_type": "markdown",
   "id": "0d1a557a",
   "metadata": {
    "papermill": {
     "duration": 0.006568,
     "end_time": "2023-02-25T10:52:48.603373",
     "exception": false,
     "start_time": "2023-02-25T10:52:48.596805",
     "status": "completed"
    },
    "tags": []
   },
   "source": [
    "Use the code cell below to print the first five rows of the `sf_permits` DataFrame."
   ]
  },
  {
   "cell_type": "code",
   "execution_count": 3,
   "id": "6c30205a",
   "metadata": {
    "execution": {
     "iopub.execute_input": "2023-02-25T10:52:48.619993Z",
     "iopub.status.busy": "2023-02-25T10:52:48.618543Z",
     "iopub.status.idle": "2023-02-25T10:52:48.908976Z",
     "shell.execute_reply": "2023-02-25T10:52:48.907314Z"
    },
    "papermill": {
     "duration": 0.303006,
     "end_time": "2023-02-25T10:52:48.913140",
     "exception": false,
     "start_time": "2023-02-25T10:52:48.610134",
     "status": "completed"
    },
    "tags": []
   },
   "outputs": [
    {
     "name": "stdout",
     "output_type": "stream",
     "text": [
      "<class 'pandas.core.frame.DataFrame'>\n",
      "RangeIndex: 198900 entries, 0 to 198899\n",
      "Data columns (total 43 columns):\n",
      " #   Column                                  Non-Null Count   Dtype  \n",
      "---  ------                                  --------------   -----  \n",
      " 0   Permit Number                           198900 non-null  object \n",
      " 1   Permit Type                             198900 non-null  int64  \n",
      " 2   Permit Type Definition                  198900 non-null  object \n",
      " 3   Permit Creation Date                    198900 non-null  object \n",
      " 4   Block                                   198900 non-null  object \n",
      " 5   Lot                                     198900 non-null  object \n",
      " 6   Street Number                           198900 non-null  int64  \n",
      " 7   Street Number Suffix                    2216 non-null    object \n",
      " 8   Street Name                             198900 non-null  object \n",
      " 9   Street Suffix                           196132 non-null  object \n",
      " 10  Unit                                    29479 non-null   float64\n",
      " 11  Unit Suffix                             1961 non-null    object \n",
      " 12  Description                             198610 non-null  object \n",
      " 13  Current Status                          198900 non-null  object \n",
      " 14  Current Status Date                     198900 non-null  object \n",
      " 15  Filed Date                              198900 non-null  object \n",
      " 16  Issued Date                             183960 non-null  object \n",
      " 17  Completed Date                          97191 non-null   object \n",
      " 18  First Construction Document Date        183954 non-null  object \n",
      " 19  Structural Notification                 6922 non-null    object \n",
      " 20  Number of Existing Stories              156116 non-null  float64\n",
      " 21  Number of Proposed Stories              156032 non-null  float64\n",
      " 22  Voluntary Soft-Story Retrofit           35 non-null      object \n",
      " 23  Fire Only Permit                        18827 non-null   object \n",
      " 24  Permit Expiration Date                  147020 non-null  object \n",
      " 25  Estimated Cost                          160834 non-null  float64\n",
      " 26  Revised Cost                            192834 non-null  float64\n",
      " 27  Existing Use                            157786 non-null  object \n",
      " 28  Existing Units                          147362 non-null  float64\n",
      " 29  Proposed Use                            156461 non-null  object \n",
      " 30  Proposed Units                          147989 non-null  float64\n",
      " 31  Plansets                                161591 non-null  float64\n",
      " 32  TIDF Compliance                         2 non-null       object \n",
      " 33  Existing Construction Type              155534 non-null  float64\n",
      " 34  Existing Construction Type Description  155534 non-null  object \n",
      " 35  Proposed Construction Type              155738 non-null  float64\n",
      " 36  Proposed Construction Type Description  155738 non-null  object \n",
      " 37  Site Permit                             5359 non-null    object \n",
      " 38  Supervisor District                     197183 non-null  float64\n",
      " 39  Neighborhoods - Analysis Boundaries     197175 non-null  object \n",
      " 40  Zipcode                                 197184 non-null  float64\n",
      " 41  Location                                197200 non-null  object \n",
      " 42  Record ID                               198900 non-null  int64  \n",
      "dtypes: float64(12), int64(3), object(28)\n",
      "memory usage: 65.3+ MB\n"
     ]
    }
   ],
   "source": [
    "# TODO: Your code here!\n",
    "sf_permits.head()\n",
    "sf_permits.info()"
   ]
  },
  {
   "cell_type": "markdown",
   "id": "aa9c94d5",
   "metadata": {
    "papermill": {
     "duration": 0.006574,
     "end_time": "2023-02-25T10:52:48.927528",
     "exception": false,
     "start_time": "2023-02-25T10:52:48.920954",
     "status": "completed"
    },
    "tags": []
   },
   "source": [
    "Does the dataset have any missing values?  Once you have an answer, run the code cell below to get credit for your work."
   ]
  },
  {
   "cell_type": "code",
   "execution_count": 4,
   "id": "30c5f681",
   "metadata": {
    "execution": {
     "iopub.execute_input": "2023-02-25T10:52:48.943448Z",
     "iopub.status.busy": "2023-02-25T10:52:48.942597Z",
     "iopub.status.idle": "2023-02-25T10:52:48.953841Z",
     "shell.execute_reply": "2023-02-25T10:52:48.952499Z"
    },
    "papermill": {
     "duration": 0.0219,
     "end_time": "2023-02-25T10:52:48.956190",
     "exception": false,
     "start_time": "2023-02-25T10:52:48.934290",
     "status": "completed"
    },
    "tags": []
   },
   "outputs": [
    {
     "data": {
      "application/javascript": [
       "parent.postMessage({\"jupyterEvent\": \"custom.exercise_interaction\", \"data\": {\"outcomeType\": 1, \"valueTowardsCompletion\": 0.16666666666666666, \"interactionType\": 1, \"questionType\": 4, \"questionId\": \"1_TakeFirstLook\", \"learnToolsVersion\": \"0.3.4\", \"failureMessage\": \"\", \"exceptionClass\": \"\", \"trace\": \"\"}}, \"*\")"
      ],
      "text/plain": [
       "<IPython.core.display.Javascript object>"
      ]
     },
     "metadata": {},
     "output_type": "display_data"
    },
    {
     "data": {
      "text/markdown": [
       "<span style=\"color:#33cc33\">Correct:</span> \n",
       "\n",
       "The first five rows of the data does show that several columns have missing values.  You can see this in the \"Street Number Suffix\", \"Proposed Construction Type\" and \"Site Permit\" columns, among others."
      ],
      "text/plain": [
       "Correct: \n",
       "\n",
       "The first five rows of the data does show that several columns have missing values.  You can see this in the \"Street Number Suffix\", \"Proposed Construction Type\" and \"Site Permit\" columns, among others."
      ]
     },
     "metadata": {},
     "output_type": "display_data"
    }
   ],
   "source": [
    "# Check your answer (Run this code cell to receive credit!)\n",
    "q1.check()"
   ]
  },
  {
   "cell_type": "code",
   "execution_count": 5,
   "id": "33510726",
   "metadata": {
    "execution": {
     "iopub.execute_input": "2023-02-25T10:52:48.972329Z",
     "iopub.status.busy": "2023-02-25T10:52:48.971918Z",
     "iopub.status.idle": "2023-02-25T10:52:48.976886Z",
     "shell.execute_reply": "2023-02-25T10:52:48.975695Z"
    },
    "papermill": {
     "duration": 0.016168,
     "end_time": "2023-02-25T10:52:48.979500",
     "exception": false,
     "start_time": "2023-02-25T10:52:48.963332",
     "status": "completed"
    },
    "tags": []
   },
   "outputs": [],
   "source": [
    "# Line below will give you a hint\n",
    "#q1.hint()"
   ]
  },
  {
   "cell_type": "markdown",
   "id": "64ec0ec2",
   "metadata": {
    "papermill": {
     "duration": 0.006737,
     "end_time": "2023-02-25T10:52:48.994471",
     "exception": false,
     "start_time": "2023-02-25T10:52:48.987734",
     "status": "completed"
    },
    "tags": []
   },
   "source": [
    "# 2) How many missing data points do we have?\n",
    "\n",
    "What percentage of the values in the dataset are missing?  Your answer should be a number between 0 and 100.  (If 1/4 of the values in the dataset are missing, the answer is 25.)"
   ]
  },
  {
   "cell_type": "code",
   "execution_count": 6,
   "id": "683f94b0",
   "metadata": {
    "execution": {
     "iopub.execute_input": "2023-02-25T10:52:49.010781Z",
     "iopub.status.busy": "2023-02-25T10:52:49.010342Z",
     "iopub.status.idle": "2023-02-25T10:52:49.287901Z",
     "shell.execute_reply": "2023-02-25T10:52:49.286831Z"
    },
    "papermill": {
     "duration": 0.289746,
     "end_time": "2023-02-25T10:52:49.291280",
     "exception": false,
     "start_time": "2023-02-25T10:52:49.001534",
     "status": "completed"
    },
    "tags": []
   },
   "outputs": [
    {
     "data": {
      "application/javascript": [
       "parent.postMessage({\"jupyterEvent\": \"custom.exercise_interaction\", \"data\": {\"outcomeType\": 1, \"valueTowardsCompletion\": 0.16666666666666666, \"interactionType\": 1, \"questionType\": 1, \"questionId\": \"2_PercentMissingValues\", \"learnToolsVersion\": \"0.3.4\", \"failureMessage\": \"\", \"exceptionClass\": \"\", \"trace\": \"\"}}, \"*\")"
      ],
      "text/plain": [
       "<IPython.core.display.Javascript object>"
      ]
     },
     "metadata": {},
     "output_type": "display_data"
    },
    {
     "data": {
      "text/markdown": [
       "<span style=\"color:#33cc33\">Correct</span>"
      ],
      "text/plain": [
       "Correct"
      ]
     },
     "metadata": {},
     "output_type": "display_data"
    }
   ],
   "source": [
    "# TODO: Your code here!\n",
    "total_cells = np.product(sf_permits.shape)\n",
    "total_missing = (sf_permits.isnull().sum()).sum()\n",
    "\n",
    "percent_missing = (total_missing/total_cells) * 100\n",
    "\n",
    "# Check your answer\n",
    "q2.check()"
   ]
  },
  {
   "cell_type": "code",
   "execution_count": 7,
   "id": "bd3e161d",
   "metadata": {
    "execution": {
     "iopub.execute_input": "2023-02-25T10:52:49.308452Z",
     "iopub.status.busy": "2023-02-25T10:52:49.308012Z",
     "iopub.status.idle": "2023-02-25T10:52:49.319332Z",
     "shell.execute_reply": "2023-02-25T10:52:49.317927Z"
    },
    "papermill": {
     "duration": 0.023463,
     "end_time": "2023-02-25T10:52:49.322492",
     "exception": false,
     "start_time": "2023-02-25T10:52:49.299029",
     "status": "completed"
    },
    "tags": []
   },
   "outputs": [
    {
     "data": {
      "application/javascript": [
       "parent.postMessage({\"jupyterEvent\": \"custom.exercise_interaction\", \"data\": {\"interactionType\": 2, \"questionType\": 1, \"questionId\": \"2_PercentMissingValues\", \"learnToolsVersion\": \"0.3.4\", \"valueTowardsCompletion\": 0.0, \"failureMessage\": \"\", \"exceptionClass\": \"\", \"trace\": \"\", \"outcomeType\": 4}}, \"*\")"
      ],
      "text/plain": [
       "<IPython.core.display.Javascript object>"
      ]
     },
     "metadata": {},
     "output_type": "display_data"
    },
    {
     "data": {
      "text/markdown": [
       "<span style=\"color:#3366cc\">Hint:</span> You can begin by getting the number of missing entries in each column with `missing_values_count = sf_permits.isnull().sum()`."
      ],
      "text/plain": [
       "Hint: You can begin by getting the number of missing entries in each column with `missing_values_count = sf_permits.isnull().sum()`."
      ]
     },
     "metadata": {},
     "output_type": "display_data"
    }
   ],
   "source": [
    "# Lines below will give you a hint or solution code\n",
    "q2.hint()\n",
    "# q2.solution()"
   ]
  },
  {
   "cell_type": "markdown",
   "id": "5a81b0ef",
   "metadata": {
    "papermill": {
     "duration": 0.007597,
     "end_time": "2023-02-25T10:52:49.337923",
     "exception": false,
     "start_time": "2023-02-25T10:52:49.330326",
     "status": "completed"
    },
    "tags": []
   },
   "source": [
    "# 3) Figure out why the data is missing\n",
    "\n",
    "Look at the columns **\"Street Number Suffix\"** and **\"Zipcode\"** from the [San Francisco Building Permits dataset](https://www.kaggle.com/aparnashastry/building-permit-applications-data). Both of these contain missing values. \n",
    "- Which, if either, are missing because they don't exist? \n",
    "- Which, if either, are missing because they weren't recorded?  \n",
    "\n",
    "Once you have an answer, run the code cell below."
   ]
  },
  {
   "cell_type": "code",
   "execution_count": 8,
   "id": "c3b03895",
   "metadata": {
    "execution": {
     "iopub.execute_input": "2023-02-25T10:52:49.355924Z",
     "iopub.status.busy": "2023-02-25T10:52:49.355483Z",
     "iopub.status.idle": "2023-02-25T10:52:49.365303Z",
     "shell.execute_reply": "2023-02-25T10:52:49.364094Z"
    },
    "papermill": {
     "duration": 0.021419,
     "end_time": "2023-02-25T10:52:49.367729",
     "exception": false,
     "start_time": "2023-02-25T10:52:49.346310",
     "status": "completed"
    },
    "tags": []
   },
   "outputs": [
    {
     "data": {
      "application/javascript": [
       "parent.postMessage({\"jupyterEvent\": \"custom.exercise_interaction\", \"data\": {\"outcomeType\": 1, \"valueTowardsCompletion\": 0.16666666666666666, \"interactionType\": 1, \"questionType\": 4, \"questionId\": \"3_WhyDataMissing\", \"learnToolsVersion\": \"0.3.4\", \"failureMessage\": \"\", \"exceptionClass\": \"\", \"trace\": \"\"}}, \"*\")"
      ],
      "text/plain": [
       "<IPython.core.display.Javascript object>"
      ]
     },
     "metadata": {},
     "output_type": "display_data"
    },
    {
     "data": {
      "text/markdown": [
       "<span style=\"color:#33cc33\">Correct:</span> \n",
       "\n",
       "If a value in the \"Street Number Suffix\" column is missing, it is likely because it does not exist. If a value in the \"Zipcode\" column is missing, it was not recorded."
      ],
      "text/plain": [
       "Correct: \n",
       "\n",
       "If a value in the \"Street Number Suffix\" column is missing, it is likely because it does not exist. If a value in the \"Zipcode\" column is missing, it was not recorded."
      ]
     },
     "metadata": {},
     "output_type": "display_data"
    }
   ],
   "source": [
    "# Check your answer (Run this code cell to receive credit!)\n",
    "q3.check()"
   ]
  },
  {
   "cell_type": "code",
   "execution_count": 9,
   "id": "4997380e",
   "metadata": {
    "execution": {
     "iopub.execute_input": "2023-02-25T10:52:49.385671Z",
     "iopub.status.busy": "2023-02-25T10:52:49.385234Z",
     "iopub.status.idle": "2023-02-25T10:52:49.390001Z",
     "shell.execute_reply": "2023-02-25T10:52:49.388718Z"
    },
    "papermill": {
     "duration": 0.017142,
     "end_time": "2023-02-25T10:52:49.392741",
     "exception": false,
     "start_time": "2023-02-25T10:52:49.375599",
     "status": "completed"
    },
    "tags": []
   },
   "outputs": [],
   "source": [
    "# Line below will give you a hint\n",
    "# q3.hint()"
   ]
  },
  {
   "cell_type": "markdown",
   "id": "08b59b91",
   "metadata": {
    "papermill": {
     "duration": 0.007547,
     "end_time": "2023-02-25T10:52:49.408507",
     "exception": false,
     "start_time": "2023-02-25T10:52:49.400960",
     "status": "completed"
    },
    "tags": []
   },
   "source": [
    "# 4) Drop missing values: rows\n",
    "\n",
    "If you removed all of the rows of `sf_permits` with missing values, how many rows are left?\n",
    "\n",
    "**Note**: Do not change the value of `sf_permits` when checking this.  "
   ]
  },
  {
   "cell_type": "code",
   "execution_count": 10,
   "id": "9a3d8285",
   "metadata": {
    "execution": {
     "iopub.execute_input": "2023-02-25T10:52:49.426497Z",
     "iopub.status.busy": "2023-02-25T10:52:49.426024Z",
     "iopub.status.idle": "2023-02-25T10:52:49.803344Z",
     "shell.execute_reply": "2023-02-25T10:52:49.801854Z"
    },
    "papermill": {
     "duration": 0.389609,
     "end_time": "2023-02-25T10:52:49.806024",
     "exception": false,
     "start_time": "2023-02-25T10:52:49.416415",
     "status": "completed"
    },
    "tags": []
   },
   "outputs": [
    {
     "name": "stdout",
     "output_type": "stream",
     "text": [
      "<class 'pandas.core.frame.DataFrame'>\n",
      "RangeIndex: 198900 entries, 0 to 198899\n",
      "Data columns (total 12 columns):\n",
      " #   Column                  Non-Null Count   Dtype \n",
      "---  ------                  --------------   ----- \n",
      " 0   Permit Number           198900 non-null  object\n",
      " 1   Permit Type             198900 non-null  int64 \n",
      " 2   Permit Type Definition  198900 non-null  object\n",
      " 3   Permit Creation Date    198900 non-null  object\n",
      " 4   Block                   198900 non-null  object\n",
      " 5   Lot                     198900 non-null  object\n",
      " 6   Street Number           198900 non-null  int64 \n",
      " 7   Street Name             198900 non-null  object\n",
      " 8   Current Status          198900 non-null  object\n",
      " 9   Current Status Date     198900 non-null  object\n",
      " 10  Filed Date              198900 non-null  object\n",
      " 11  Record ID               198900 non-null  int64 \n",
      "dtypes: int64(3), object(9)\n",
      "memory usage: 18.2+ MB\n"
     ]
    }
   ],
   "source": [
    "# TODO: Your code here!\n",
    "columns_with_na_dropped = sf_permits.dropna(axis=1)\n",
    "\n",
    "columns_with_na_dropped.info()"
   ]
  },
  {
   "cell_type": "markdown",
   "id": "acebecda",
   "metadata": {
    "papermill": {
     "duration": 0.00766,
     "end_time": "2023-02-25T10:52:49.821774",
     "exception": false,
     "start_time": "2023-02-25T10:52:49.814114",
     "status": "completed"
    },
    "tags": []
   },
   "source": [
    "Once you have an answer, run the code cell below."
   ]
  },
  {
   "cell_type": "code",
   "execution_count": 11,
   "id": "62a83d30",
   "metadata": {
    "execution": {
     "iopub.execute_input": "2023-02-25T10:52:49.840111Z",
     "iopub.status.busy": "2023-02-25T10:52:49.839696Z",
     "iopub.status.idle": "2023-02-25T10:52:49.850776Z",
     "shell.execute_reply": "2023-02-25T10:52:49.849420Z"
    },
    "papermill": {
     "duration": 0.023346,
     "end_time": "2023-02-25T10:52:49.853246",
     "exception": false,
     "start_time": "2023-02-25T10:52:49.829900",
     "status": "completed"
    },
    "tags": []
   },
   "outputs": [
    {
     "data": {
      "application/javascript": [
       "parent.postMessage({\"jupyterEvent\": \"custom.exercise_interaction\", \"data\": {\"outcomeType\": 1, \"valueTowardsCompletion\": 0.16666666666666666, \"interactionType\": 1, \"questionType\": 4, \"questionId\": \"4_DropMissingRows\", \"learnToolsVersion\": \"0.3.4\", \"failureMessage\": \"\", \"exceptionClass\": \"\", \"trace\": \"\"}}, \"*\")"
      ],
      "text/plain": [
       "<IPython.core.display.Javascript object>"
      ]
     },
     "metadata": {},
     "output_type": "display_data"
    },
    {
     "data": {
      "text/markdown": [
       "<span style=\"color:#33cc33\">Correct:</span> \n",
       "\n",
       "There are no rows remaining in the dataset!"
      ],
      "text/plain": [
       "Correct: \n",
       "\n",
       "There are no rows remaining in the dataset!"
      ]
     },
     "metadata": {},
     "output_type": "display_data"
    }
   ],
   "source": [
    "# Check your answer (Run this code cell to receive credit!)\n",
    "q4.check()"
   ]
  },
  {
   "cell_type": "code",
   "execution_count": 12,
   "id": "915aea10",
   "metadata": {
    "execution": {
     "iopub.execute_input": "2023-02-25T10:52:49.871811Z",
     "iopub.status.busy": "2023-02-25T10:52:49.871356Z",
     "iopub.status.idle": "2023-02-25T10:52:49.877007Z",
     "shell.execute_reply": "2023-02-25T10:52:49.875407Z"
    },
    "papermill": {
     "duration": 0.018402,
     "end_time": "2023-02-25T10:52:49.879841",
     "exception": false,
     "start_time": "2023-02-25T10:52:49.861439",
     "status": "completed"
    },
    "tags": []
   },
   "outputs": [],
   "source": [
    "# Line below will give you a hint\n",
    "# q4.hint()"
   ]
  },
  {
   "cell_type": "markdown",
   "id": "c43f26fd",
   "metadata": {
    "papermill": {
     "duration": 0.007943,
     "end_time": "2023-02-25T10:52:49.896081",
     "exception": false,
     "start_time": "2023-02-25T10:52:49.888138",
     "status": "completed"
    },
    "tags": []
   },
   "source": [
    "# 5) Drop missing values: columns\n",
    "\n",
    "Now try removing all the columns with empty values.  \n",
    "- Create a new DataFrame called `sf_permits_with_na_dropped` that has all of the columns with empty values removed.  \n",
    "- How many columns were removed from the original `sf_permits` DataFrame? Use this number to set the value of the `dropped_columns` variable below."
   ]
  },
  {
   "cell_type": "code",
   "execution_count": 13,
   "id": "5a7628e9",
   "metadata": {
    "execution": {
     "iopub.execute_input": "2023-02-25T10:52:49.915535Z",
     "iopub.status.busy": "2023-02-25T10:52:49.915124Z",
     "iopub.status.idle": "2023-02-25T10:52:50.200927Z",
     "shell.execute_reply": "2023-02-25T10:52:50.199377Z"
    },
    "papermill": {
     "duration": 0.299005,
     "end_time": "2023-02-25T10:52:50.203644",
     "exception": false,
     "start_time": "2023-02-25T10:52:49.904639",
     "status": "completed"
    },
    "tags": []
   },
   "outputs": [
    {
     "name": "stdout",
     "output_type": "stream",
     "text": [
      "31\n"
     ]
    },
    {
     "data": {
      "application/javascript": [
       "parent.postMessage({\"jupyterEvent\": \"custom.exercise_interaction\", \"data\": {\"outcomeType\": 1, \"valueTowardsCompletion\": 0.16666666666666666, \"interactionType\": 1, \"questionType\": 1, \"questionId\": \"5_DropMissingCols\", \"learnToolsVersion\": \"0.3.4\", \"failureMessage\": \"\", \"exceptionClass\": \"\", \"trace\": \"\"}}, \"*\")"
      ],
      "text/plain": [
       "<IPython.core.display.Javascript object>"
      ]
     },
     "metadata": {},
     "output_type": "display_data"
    },
    {
     "data": {
      "text/markdown": [
       "<span style=\"color:#33cc33\">Correct</span>"
      ],
      "text/plain": [
       "Correct"
      ]
     },
     "metadata": {},
     "output_type": "display_data"
    }
   ],
   "source": [
    "# TODO: Your code here\n",
    "sf_permits_with_na_dropped = sf_permits.dropna(axis=1)\n",
    "\n",
    "cols_in_original_dataset = sf_permits.shape[1]\n",
    "cols_in_na_dropped = sf_permits_with_na_dropped.shape[1]\n",
    "dropped_columns = cols_in_original_dataset - cols_in_na_dropped\n",
    "\n",
    "print(dropped_columns)\n",
    "\n",
    "# Check your answer\n",
    "q5.check()"
   ]
  },
  {
   "cell_type": "code",
   "execution_count": 14,
   "id": "c04487aa",
   "metadata": {
    "execution": {
     "iopub.execute_input": "2023-02-25T10:52:50.224595Z",
     "iopub.status.busy": "2023-02-25T10:52:50.224139Z",
     "iopub.status.idle": "2023-02-25T10:52:50.238991Z",
     "shell.execute_reply": "2023-02-25T10:52:50.237868Z"
    },
    "papermill": {
     "duration": 0.027846,
     "end_time": "2023-02-25T10:52:50.241821",
     "exception": false,
     "start_time": "2023-02-25T10:52:50.213975",
     "status": "completed"
    },
    "tags": []
   },
   "outputs": [
    {
     "data": {
      "application/javascript": [
       "parent.postMessage({\"jupyterEvent\": \"custom.exercise_interaction\", \"data\": {\"interactionType\": 2, \"questionType\": 1, \"questionId\": \"5_DropMissingCols\", \"learnToolsVersion\": \"0.3.4\", \"valueTowardsCompletion\": 0.0, \"failureMessage\": \"\", \"exceptionClass\": \"\", \"trace\": \"\", \"outcomeType\": 4}}, \"*\")"
      ],
      "text/plain": [
       "<IPython.core.display.Javascript object>"
      ]
     },
     "metadata": {},
     "output_type": "display_data"
    },
    {
     "data": {
      "text/markdown": [
       "<span style=\"color:#3366cc\">Hint:</span> You can begin by getting the dropping all columns with missing values with `sf_permits.dropna(axis=1)`."
      ],
      "text/plain": [
       "Hint: You can begin by getting the dropping all columns with missing values with `sf_permits.dropna(axis=1)`."
      ]
     },
     "metadata": {},
     "output_type": "display_data"
    },
    {
     "data": {
      "application/javascript": [
       "parent.postMessage({\"jupyterEvent\": \"custom.exercise_interaction\", \"data\": {\"interactionType\": 3, \"questionType\": 1, \"questionId\": \"5_DropMissingCols\", \"learnToolsVersion\": \"0.3.4\", \"valueTowardsCompletion\": 0.0, \"failureMessage\": \"\", \"exceptionClass\": \"\", \"trace\": \"\", \"outcomeType\": 4}}, \"*\")"
      ],
      "text/plain": [
       "<IPython.core.display.Javascript object>"
      ]
     },
     "metadata": {},
     "output_type": "display_data"
    },
    {
     "data": {
      "text/markdown": [
       "<span style=\"color:#33cc99\">Solution:</span> \n",
       "```python\n",
       "# remove all columns with at least one missing value\n",
       "sf_permits_with_na_dropped = sf_permits.dropna(axis=1)\n",
       "\n",
       "# calculate number of dropped columns\n",
       "cols_in_original_dataset = sf_permits.shape[1]\n",
       "cols_in_na_dropped = sf_permits_with_na_dropped.shape[1]\n",
       "dropped_columns = cols_in_original_dataset - cols_in_na_dropped\n",
       "\n",
       "```"
      ],
      "text/plain": [
       "Solution: \n",
       "```python\n",
       "# remove all columns with at least one missing value\n",
       "sf_permits_with_na_dropped = sf_permits.dropna(axis=1)\n",
       "\n",
       "# calculate number of dropped columns\n",
       "cols_in_original_dataset = sf_permits.shape[1]\n",
       "cols_in_na_dropped = sf_permits_with_na_dropped.shape[1]\n",
       "dropped_columns = cols_in_original_dataset - cols_in_na_dropped\n",
       "\n",
       "```"
      ]
     },
     "metadata": {},
     "output_type": "display_data"
    }
   ],
   "source": [
    "# Lines below will give you a hint or solution code\n",
    "q5.hint()\n",
    "q5.solution()"
   ]
  },
  {
   "cell_type": "markdown",
   "id": "fba2436f",
   "metadata": {
    "papermill": {
     "duration": 0.008912,
     "end_time": "2023-02-25T10:52:50.260139",
     "exception": false,
     "start_time": "2023-02-25T10:52:50.251227",
     "status": "completed"
    },
    "tags": []
   },
   "source": [
    "# 6) Fill in missing values automatically\n",
    "\n",
    "Try replacing all the NaN's in the `sf_permits` data with the one that comes directly after it and then replacing any remaining NaN's with 0.  Set the result to a new DataFrame `sf_permits_with_na_imputed`."
   ]
  },
  {
   "cell_type": "code",
   "execution_count": 15,
   "id": "69b5b434",
   "metadata": {
    "execution": {
     "iopub.execute_input": "2023-02-25T10:52:50.281215Z",
     "iopub.status.busy": "2023-02-25T10:52:50.280260Z",
     "iopub.status.idle": "2023-02-25T10:52:51.336249Z",
     "shell.execute_reply": "2023-02-25T10:52:51.334780Z"
    },
    "papermill": {
     "duration": 1.069624,
     "end_time": "2023-02-25T10:52:51.339299",
     "exception": false,
     "start_time": "2023-02-25T10:52:50.269675",
     "status": "completed"
    },
    "tags": []
   },
   "outputs": [
    {
     "data": {
      "application/javascript": [
       "parent.postMessage({\"jupyterEvent\": \"custom.exercise_interaction\", \"data\": {\"outcomeType\": 1, \"valueTowardsCompletion\": 0.16666666666666666, \"interactionType\": 1, \"questionType\": 1, \"questionId\": \"6_ImputeAutomatically\", \"learnToolsVersion\": \"0.3.4\", \"failureMessage\": \"\", \"exceptionClass\": \"\", \"trace\": \"\"}}, \"*\")"
      ],
      "text/plain": [
       "<IPython.core.display.Javascript object>"
      ]
     },
     "metadata": {},
     "output_type": "display_data"
    },
    {
     "data": {
      "text/markdown": [
       "<span style=\"color:#33cc33\">Correct</span>"
      ],
      "text/plain": [
       "Correct"
      ]
     },
     "metadata": {},
     "output_type": "display_data"
    }
   ],
   "source": [
    "# TODO: Your code here\n",
    "sf_permits_with_na_imputed = sf_permits.fillna(method='bfill', axis=0).fillna(0)\n",
    "\n",
    "# Check your answer\n",
    "q6.check()"
   ]
  },
  {
   "cell_type": "code",
   "execution_count": 16,
   "id": "9754e636",
   "metadata": {
    "execution": {
     "iopub.execute_input": "2023-02-25T10:52:51.359725Z",
     "iopub.status.busy": "2023-02-25T10:52:51.359269Z",
     "iopub.status.idle": "2023-02-25T10:52:51.364630Z",
     "shell.execute_reply": "2023-02-25T10:52:51.363188Z"
    },
    "papermill": {
     "duration": 0.018923,
     "end_time": "2023-02-25T10:52:51.367353",
     "exception": false,
     "start_time": "2023-02-25T10:52:51.348430",
     "status": "completed"
    },
    "tags": []
   },
   "outputs": [],
   "source": [
    "# Lines below will give you a hint or solution code\n",
    "# q6.hint()\n",
    "# q6.solution()"
   ]
  },
  {
   "cell_type": "markdown",
   "id": "f0296ad6",
   "metadata": {
    "papermill": {
     "duration": 0.008995,
     "end_time": "2023-02-25T10:52:51.385811",
     "exception": false,
     "start_time": "2023-02-25T10:52:51.376816",
     "status": "completed"
    },
    "tags": []
   },
   "source": [
    "# More practice\n",
    "\n",
    "If you're looking for more practice handling missing values:\n",
    "\n",
    "* Check out [this noteboook](https://www.kaggle.com/alexisbcook/missing-values) on handling missing values using scikit-learn's imputer. \n",
    "* Look back at the \"Zipcode\" column in the `sf_permits` dataset, which has some missing values. How would you go about figuring out what the actual zipcode of each address should be? (You might try using another dataset. You can search for datasets about San Fransisco on the [Datasets listing](https://www.kaggle.com/datasets).) \n",
    "\n",
    "# Keep going\n",
    "\n",
    "In the next lesson, learn how to [**apply scaling and normalization**](https://www.kaggle.com/alexisbcook/scaling-and-normalization) to transform your data."
   ]
  },
  {
   "cell_type": "markdown",
   "id": "b406e982",
   "metadata": {
    "papermill": {
     "duration": 0.008892,
     "end_time": "2023-02-25T10:52:51.404080",
     "exception": false,
     "start_time": "2023-02-25T10:52:51.395188",
     "status": "completed"
    },
    "tags": []
   },
   "source": [
    "---\n",
    "\n",
    "\n",
    "\n",
    "\n",
    "*Have questions or comments? Visit the [course discussion forum](https://www.kaggle.com/learn/data-cleaning/discussion) to chat with other learners.*"
   ]
  }
 ],
 "metadata": {
  "kernelspec": {
   "display_name": "Python 3",
   "language": "python",
   "name": "python3"
  },
  "language_info": {
   "codemirror_mode": {
    "name": "ipython",
    "version": 3
   },
   "file_extension": ".py",
   "mimetype": "text/x-python",
   "name": "python",
   "nbconvert_exporter": "python",
   "pygments_lexer": "ipython3",
   "version": "3.7.12"
  },
  "papermill": {
   "default_parameters": {},
   "duration": 21.573295,
   "end_time": "2023-02-25T10:52:52.338736",
   "environment_variables": {},
   "exception": null,
   "input_path": "__notebook__.ipynb",
   "output_path": "__notebook__.ipynb",
   "parameters": {},
   "start_time": "2023-02-25T10:52:30.765441",
   "version": "2.4.0"
  }
 },
 "nbformat": 4,
 "nbformat_minor": 5
}
