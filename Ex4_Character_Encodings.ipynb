{
 "cells": [
  {
   "cell_type": "markdown",
   "id": "02f8a0bb",
   "metadata": {
    "papermill": {
     "duration": 0.006446,
     "end_time": "2023-02-26T18:16:27.727398",
     "exception": false,
     "start_time": "2023-02-26T18:16:27.720952",
     "status": "completed"
    },
    "tags": []
   },
   "source": [
    "**This notebook is an exercise in the [Data Cleaning](https://www.kaggle.com/learn/data-cleaning) course.  You can reference the tutorial at [this link](https://www.kaggle.com/alexisbcook/character-encodings).**\n",
    "\n",
    "---\n"
   ]
  },
  {
   "cell_type": "markdown",
   "id": "7390495b",
   "metadata": {
    "papermill": {
     "duration": 0.004638,
     "end_time": "2023-02-26T18:16:27.737367",
     "exception": false,
     "start_time": "2023-02-26T18:16:27.732729",
     "status": "completed"
    },
    "tags": []
   },
   "source": [
    "In this exercise, you'll apply what you learned in the **Character encodings** tutorial.\n",
    "\n",
    "# Setup\n",
    "\n",
    "The questions below will give you feedback on your work. Run the following cell to set up the feedback system."
   ]
  },
  {
   "cell_type": "code",
   "execution_count": 1,
   "id": "77a3075d",
   "metadata": {
    "execution": {
     "iopub.execute_input": "2023-02-26T18:16:27.750711Z",
     "iopub.status.busy": "2023-02-26T18:16:27.749834Z",
     "iopub.status.idle": "2023-02-26T18:16:27.840751Z",
     "shell.execute_reply": "2023-02-26T18:16:27.839816Z"
    },
    "papermill": {
     "duration": 0.102123,
     "end_time": "2023-02-26T18:16:27.844656",
     "exception": false,
     "start_time": "2023-02-26T18:16:27.742533",
     "status": "completed"
    },
    "tags": []
   },
   "outputs": [
    {
     "name": "stdout",
     "output_type": "stream",
     "text": [
      "Setup Complete\n"
     ]
    }
   ],
   "source": [
    "from learntools.core import binder\n",
    "binder.bind(globals())\n",
    "from learntools.data_cleaning.ex4 import *\n",
    "print(\"Setup Complete\")"
   ]
  },
  {
   "cell_type": "markdown",
   "id": "17fe076b",
   "metadata": {
    "papermill": {
     "duration": 0.004972,
     "end_time": "2023-02-26T18:16:27.854964",
     "exception": false,
     "start_time": "2023-02-26T18:16:27.849992",
     "status": "completed"
    },
    "tags": []
   },
   "source": [
    "# Get our environment set up\n",
    "\n",
    "The first thing we'll need to do is load in the libraries we'll be using."
   ]
  },
  {
   "cell_type": "code",
   "execution_count": 2,
   "id": "25c5e9a6",
   "metadata": {
    "execution": {
     "iopub.execute_input": "2023-02-26T18:16:27.868812Z",
     "iopub.status.busy": "2023-02-26T18:16:27.868023Z",
     "iopub.status.idle": "2023-02-26T18:16:27.873324Z",
     "shell.execute_reply": "2023-02-26T18:16:27.872037Z"
    },
    "papermill": {
     "duration": 0.015135,
     "end_time": "2023-02-26T18:16:27.876084",
     "exception": false,
     "start_time": "2023-02-26T18:16:27.860949",
     "status": "completed"
    },
    "tags": []
   },
   "outputs": [],
   "source": [
    "# modules we'll use\n",
    "import pandas as pd\n",
    "import numpy as np\n",
    "\n",
    "# helpful character encoding module\n",
    "import charset_normalizer\n",
    "\n",
    "# set seed for reproducibility\n",
    "np.random.seed(0)"
   ]
  },
  {
   "cell_type": "markdown",
   "id": "72fa30f9",
   "metadata": {
    "papermill": {
     "duration": 0.004896,
     "end_time": "2023-02-26T18:16:27.886444",
     "exception": false,
     "start_time": "2023-02-26T18:16:27.881548",
     "status": "completed"
    },
    "tags": []
   },
   "source": [
    "# 1) What are encodings?\n",
    "\n",
    "You're working with a dataset composed of bytes.  Run the code cell below to print a sample entry."
   ]
  },
  {
   "cell_type": "code",
   "execution_count": 3,
   "id": "9e8dac67",
   "metadata": {
    "execution": {
     "iopub.execute_input": "2023-02-26T18:16:27.899443Z",
     "iopub.status.busy": "2023-02-26T18:16:27.898688Z",
     "iopub.status.idle": "2023-02-26T18:16:27.904315Z",
     "shell.execute_reply": "2023-02-26T18:16:27.903219Z"
    },
    "papermill": {
     "duration": 0.015539,
     "end_time": "2023-02-26T18:16:27.907176",
     "exception": false,
     "start_time": "2023-02-26T18:16:27.891637",
     "status": "completed"
    },
    "tags": []
   },
   "outputs": [
    {
     "name": "stdout",
     "output_type": "stream",
     "text": [
      "b'\\xa7A\\xa6n'\n",
      "data type: <class 'bytes'>\n"
     ]
    }
   ],
   "source": [
    "sample_entry = b'\\xa7A\\xa6n'\n",
    "print(sample_entry)\n",
    "print('data type:', type(sample_entry))"
   ]
  },
  {
   "cell_type": "markdown",
   "id": "a52e2203",
   "metadata": {
    "papermill": {
     "duration": 0.005023,
     "end_time": "2023-02-26T18:16:27.917457",
     "exception": false,
     "start_time": "2023-02-26T18:16:27.912434",
     "status": "completed"
    },
    "tags": []
   },
   "source": [
    "You notice that it doesn't use the standard UTF-8 encoding. \n",
    "\n",
    "Use the next code cell to create a variable `new_entry` that changes the encoding from `\"big5-tw\"` to `\"utf-8\"`.  `new_entry` should have the bytes datatype."
   ]
  },
  {
   "cell_type": "code",
   "execution_count": 4,
   "id": "041a8131",
   "metadata": {
    "execution": {
     "iopub.execute_input": "2023-02-26T18:16:27.931027Z",
     "iopub.status.busy": "2023-02-26T18:16:27.930223Z",
     "iopub.status.idle": "2023-02-26T18:16:27.940531Z",
     "shell.execute_reply": "2023-02-26T18:16:27.939226Z"
    },
    "papermill": {
     "duration": 0.019928,
     "end_time": "2023-02-26T18:16:27.943144",
     "exception": false,
     "start_time": "2023-02-26T18:16:27.923216",
     "status": "completed"
    },
    "tags": []
   },
   "outputs": [
    {
     "data": {
      "application/javascript": [
       "parent.postMessage({\"jupyterEvent\": \"custom.exercise_interaction\", \"data\": {\"outcomeType\": 1, \"valueTowardsCompletion\": 0.3333333333333333, \"interactionType\": 1, \"questionType\": 1, \"questionId\": \"1_EncodingsIntro\", \"learnToolsVersion\": \"0.3.4\", \"failureMessage\": \"\", \"exceptionClass\": \"\", \"trace\": \"\"}}, \"*\")"
      ],
      "text/plain": [
       "<IPython.core.display.Javascript object>"
      ]
     },
     "metadata": {},
     "output_type": "display_data"
    },
    {
     "data": {
      "text/markdown": [
       "<span style=\"color:#33cc33\">Correct</span>"
      ],
      "text/plain": [
       "Correct"
      ]
     },
     "metadata": {},
     "output_type": "display_data"
    }
   ],
   "source": [
    "new_entry = (sample_entry.decode(\"big5-tw\")).encode(\"utf-8\", errors=\"replace\")\n",
    "\n",
    "# Check your answer\n",
    "q1.check()"
   ]
  },
  {
   "cell_type": "code",
   "execution_count": 5,
   "id": "f76acd04",
   "metadata": {
    "execution": {
     "iopub.execute_input": "2023-02-26T18:16:27.956401Z",
     "iopub.status.busy": "2023-02-26T18:16:27.955981Z",
     "iopub.status.idle": "2023-02-26T18:16:27.961813Z",
     "shell.execute_reply": "2023-02-26T18:16:27.960232Z"
    },
    "papermill": {
     "duration": 0.015908,
     "end_time": "2023-02-26T18:16:27.964714",
     "exception": false,
     "start_time": "2023-02-26T18:16:27.948806",
     "status": "completed"
    },
    "tags": []
   },
   "outputs": [],
   "source": [
    "# Lines below will give you a hint or solution code\n",
    "# q1.hint()\n",
    "# q1.solution()"
   ]
  },
  {
   "cell_type": "markdown",
   "id": "ebefb57c",
   "metadata": {
    "papermill": {
     "duration": 0.005907,
     "end_time": "2023-02-26T18:16:27.976286",
     "exception": false,
     "start_time": "2023-02-26T18:16:27.970379",
     "status": "completed"
    },
    "tags": []
   },
   "source": [
    "# 2) Reading in files with encoding problems\n",
    "\n",
    "Use the code cell below to read in this file at path `\"../input/fatal-police-shootings-in-the-us/PoliceKillingsUS.csv\"`.  \n",
    "\n",
    "Figure out what the correct encoding should be and read in the file to a DataFrame `police_killings`."
   ]
  },
  {
   "cell_type": "code",
   "execution_count": 6,
   "id": "5eb15271",
   "metadata": {
    "execution": {
     "iopub.execute_input": "2023-02-26T18:16:27.990766Z",
     "iopub.status.busy": "2023-02-26T18:16:27.989306Z",
     "iopub.status.idle": "2023-02-26T18:16:28.020646Z",
     "shell.execute_reply": "2023-02-26T18:16:28.019049Z"
    },
    "papermill": {
     "duration": 0.041564,
     "end_time": "2023-02-26T18:16:28.023580",
     "exception": false,
     "start_time": "2023-02-26T18:16:27.982016",
     "status": "completed"
    },
    "tags": []
   },
   "outputs": [
    {
     "data": {
      "application/javascript": [
       "parent.postMessage({\"jupyterEvent\": \"custom.exercise_interaction\", \"data\": {\"outcomeType\": 1, \"valueTowardsCompletion\": 0.3333333333333333, \"interactionType\": 1, \"questionType\": 1, \"questionId\": \"2_ReadIn\", \"learnToolsVersion\": \"0.3.4\", \"failureMessage\": \"\", \"exceptionClass\": \"\", \"trace\": \"\"}}, \"*\")"
      ],
      "text/plain": [
       "<IPython.core.display.Javascript object>"
      ]
     },
     "metadata": {},
     "output_type": "display_data"
    },
    {
     "data": {
      "text/markdown": [
       "<span style=\"color:#33cc33\">Correct</span>"
      ],
      "text/plain": [
       "Correct"
      ]
     },
     "metadata": {},
     "output_type": "display_data"
    }
   ],
   "source": [
    "# TODO: Load in the DataFrame correctly.\n",
    "police_killings = pd.read_csv(\"../input/fatal-police-shootings-in-the-us/PoliceKillingsUS.csv\", encoding = \"Windows-1252\")\n",
    "\n",
    "# Check your answer\n",
    "q2.check()"
   ]
  },
  {
   "cell_type": "markdown",
   "id": "79ffd890",
   "metadata": {
    "papermill": {
     "duration": 0.005556,
     "end_time": "2023-02-26T18:16:28.034946",
     "exception": false,
     "start_time": "2023-02-26T18:16:28.029390",
     "status": "completed"
    },
    "tags": []
   },
   "source": [
    "Feel free to use any additional code cells for supplemental work.  To get credit for finishing this question, you'll need to run `q2.check()` and get a result of **Correct**."
   ]
  },
  {
   "cell_type": "code",
   "execution_count": 7,
   "id": "307df175",
   "metadata": {
    "execution": {
     "iopub.execute_input": "2023-02-26T18:16:28.054381Z",
     "iopub.status.busy": "2023-02-26T18:16:28.053866Z",
     "iopub.status.idle": "2023-02-26T18:16:28.102259Z",
     "shell.execute_reply": "2023-02-26T18:16:28.100271Z"
    },
    "papermill": {
     "duration": 0.06634,
     "end_time": "2023-02-26T18:16:28.108064",
     "exception": false,
     "start_time": "2023-02-26T18:16:28.041724",
     "status": "completed"
    },
    "tags": []
   },
   "outputs": [
    {
     "name": "stdout",
     "output_type": "stream",
     "text": [
      "{'encoding': 'ascii', 'language': 'English', 'confidence': 1.0}\n"
     ]
    }
   ],
   "source": [
    "# (Optional) Use this code cell for any additional work.\n",
    "with open(\"../input/fatal-police-shootings-in-the-us/PoliceKillingsUS.csv\", 'rb') as rawdata:\n",
    "    result = charset_normalizer.detect(rawdata.read(10000))\n",
    "\n",
    "# check what the character encoding might be\n",
    "print(result)"
   ]
  },
  {
   "cell_type": "code",
   "execution_count": 8,
   "id": "19b22a47",
   "metadata": {
    "execution": {
     "iopub.execute_input": "2023-02-26T18:16:28.125359Z",
     "iopub.status.busy": "2023-02-26T18:16:28.124129Z",
     "iopub.status.idle": "2023-02-26T18:16:28.139914Z",
     "shell.execute_reply": "2023-02-26T18:16:28.138649Z"
    },
    "papermill": {
     "duration": 0.027308,
     "end_time": "2023-02-26T18:16:28.143427",
     "exception": false,
     "start_time": "2023-02-26T18:16:28.116119",
     "status": "completed"
    },
    "tags": []
   },
   "outputs": [
    {
     "data": {
      "application/javascript": [
       "parent.postMessage({\"jupyterEvent\": \"custom.exercise_interaction\", \"data\": {\"interactionType\": 2, \"questionType\": 1, \"questionId\": \"2_ReadIn\", \"learnToolsVersion\": \"0.3.4\", \"valueTowardsCompletion\": 0.0, \"failureMessage\": \"\", \"exceptionClass\": \"\", \"trace\": \"\", \"outcomeType\": 4}}, \"*\")"
      ],
      "text/plain": [
       "<IPython.core.display.Javascript object>"
      ]
     },
     "metadata": {},
     "output_type": "display_data"
    },
    {
     "data": {
      "text/markdown": [
       "<span style=\"color:#3366cc\">Hint:</span> If you try to guess the encoding with the first 10,000 bytes of the file, it might give you the wrong answer.  Try using 100,000 or more lines of the file."
      ],
      "text/plain": [
       "Hint: If you try to guess the encoding with the first 10,000 bytes of the file, it might give you the wrong answer.  Try using 100,000 or more lines of the file."
      ]
     },
     "metadata": {},
     "output_type": "display_data"
    },
    {
     "data": {
      "application/javascript": [
       "parent.postMessage({\"jupyterEvent\": \"custom.exercise_interaction\", \"data\": {\"interactionType\": 3, \"questionType\": 1, \"questionId\": \"2_ReadIn\", \"learnToolsVersion\": \"0.3.4\", \"valueTowardsCompletion\": 0.0, \"failureMessage\": \"\", \"exceptionClass\": \"\", \"trace\": \"\", \"outcomeType\": 4}}, \"*\")"
      ],
      "text/plain": [
       "<IPython.core.display.Javascript object>"
      ]
     },
     "metadata": {},
     "output_type": "display_data"
    },
    {
     "data": {
      "text/markdown": [
       "<span style=\"color:#33cc99\">Solution:</span> \n",
       "```python\n",
       "police_killings = pd.read_csv(\"../input/fatal-police-shootings-in-the-us/PoliceKillingsUS.csv\", encoding='Windows-1252')\n",
       "\n",
       "```"
      ],
      "text/plain": [
       "Solution: \n",
       "```python\n",
       "police_killings = pd.read_csv(\"../input/fatal-police-shootings-in-the-us/PoliceKillingsUS.csv\", encoding='Windows-1252')\n",
       "\n",
       "```"
      ]
     },
     "metadata": {},
     "output_type": "display_data"
    }
   ],
   "source": [
    "# Lines below will give you a hint or solution code\n",
    "q2.hint()\n",
    "q2.solution()"
   ]
  },
  {
   "cell_type": "markdown",
   "id": "428160cb",
   "metadata": {
    "papermill": {
     "duration": 0.009417,
     "end_time": "2023-02-26T18:16:28.159843",
     "exception": false,
     "start_time": "2023-02-26T18:16:28.150426",
     "status": "completed"
    },
    "tags": []
   },
   "source": [
    "# 3) Saving your files with UTF-8 encoding\n",
    "\n",
    "Save a version of the police killings dataset to CSV with UTF-8 encoding.  Your answer will be marked correct after saving this file.  \n",
    "\n",
    "Note: When using the `to_csv()` method, supply only the name of the file (e.g., `\"my_file.csv\"`).  This saves the file at the filepath `\"/kaggle/working/my_file.csv\"`."
   ]
  },
  {
   "cell_type": "code",
   "execution_count": 9,
   "id": "88f7e6f9",
   "metadata": {
    "execution": {
     "iopub.execute_input": "2023-02-26T18:16:28.175517Z",
     "iopub.status.busy": "2023-02-26T18:16:28.175089Z",
     "iopub.status.idle": "2023-02-26T18:16:28.215461Z",
     "shell.execute_reply": "2023-02-26T18:16:28.213946Z"
    },
    "papermill": {
     "duration": 0.051007,
     "end_time": "2023-02-26T18:16:28.218156",
     "exception": false,
     "start_time": "2023-02-26T18:16:28.167149",
     "status": "completed"
    },
    "tags": []
   },
   "outputs": [
    {
     "data": {
      "application/javascript": [
       "parent.postMessage({\"jupyterEvent\": \"custom.exercise_interaction\", \"data\": {\"outcomeType\": 1, \"valueTowardsCompletion\": 0.3333333333333333, \"interactionType\": 1, \"questionType\": 2, \"questionId\": \"3_SaveCSV\", \"learnToolsVersion\": \"0.3.4\", \"failureMessage\": \"\", \"exceptionClass\": \"\", \"trace\": \"\"}}, \"*\")"
      ],
      "text/plain": [
       "<IPython.core.display.Javascript object>"
      ]
     },
     "metadata": {},
     "output_type": "display_data"
    },
    {
     "data": {
      "text/markdown": [
       "<span style=\"color:#33cc33\">Correct</span>"
      ],
      "text/plain": [
       "Correct"
      ]
     },
     "metadata": {},
     "output_type": "display_data"
    }
   ],
   "source": [
    "# TODO: Save the police killings dataset to CSV\n",
    "police_killings.to_csv(\"my_file.csv\")\n",
    "\n",
    "# Check your answer\n",
    "q3.check()"
   ]
  },
  {
   "cell_type": "code",
   "execution_count": 10,
   "id": "5cb9d31a",
   "metadata": {
    "execution": {
     "iopub.execute_input": "2023-02-26T18:16:28.233153Z",
     "iopub.status.busy": "2023-02-26T18:16:28.232724Z",
     "iopub.status.idle": "2023-02-26T18:16:28.238436Z",
     "shell.execute_reply": "2023-02-26T18:16:28.237000Z"
    },
    "papermill": {
     "duration": 0.016455,
     "end_time": "2023-02-26T18:16:28.241108",
     "exception": false,
     "start_time": "2023-02-26T18:16:28.224653",
     "status": "completed"
    },
    "tags": []
   },
   "outputs": [],
   "source": [
    "# Lines below will give you a hint or solution code\n",
    "# q3.hint()\n",
    "# q3.solution()"
   ]
  },
  {
   "cell_type": "markdown",
   "id": "844cc250",
   "metadata": {
    "papermill": {
     "duration": 0.006282,
     "end_time": "2023-02-26T18:16:28.254011",
     "exception": false,
     "start_time": "2023-02-26T18:16:28.247729",
     "status": "completed"
    },
    "tags": []
   },
   "source": [
    "# (Optional) More practice\n",
    "\n",
    "Check out [this dataset of files in different character encodings](https://www.kaggle.com/rtatman/character-encoding-examples). Can you read in all the files with their original encodings and them save them out as UTF-8 files?\n",
    "\n",
    "If you have a file that's in UTF-8 but has just a couple of weird-looking characters in it, you can try out the [ftfy module](https://ftfy.readthedocs.io/en/latest/#) and see if it helps. \n",
    "\n",
    "# Keep going\n",
    "\n",
    "In the final lesson, learn how to [**clean up inconsistent text entries**](https://www.kaggle.com/alexisbcook/inconsistent-data-entry) in your dataset."
   ]
  },
  {
   "cell_type": "markdown",
   "id": "df9fc6c7",
   "metadata": {
    "papermill": {
     "duration": 0.006056,
     "end_time": "2023-02-26T18:16:28.266445",
     "exception": false,
     "start_time": "2023-02-26T18:16:28.260389",
     "status": "completed"
    },
    "tags": []
   },
   "source": [
    "---\n",
    "\n",
    "\n",
    "\n",
    "\n",
    "*Have questions or comments? Visit the [course discussion forum](https://www.kaggle.com/learn/data-cleaning/discussion) to chat with other learners.*"
   ]
  }
 ],
 "metadata": {
  "kernelspec": {
   "display_name": "Python 3",
   "language": "python",
   "name": "python3"
  },
  "language_info": {
   "codemirror_mode": {
    "name": "ipython",
    "version": 3
   },
   "file_extension": ".py",
   "mimetype": "text/x-python",
   "name": "python",
   "nbconvert_exporter": "python",
   "pygments_lexer": "ipython3",
   "version": "3.7.12"
  },
  "papermill": {
   "default_parameters": {},
   "duration": 11.711555,
   "end_time": "2023-02-26T18:16:29.097325",
   "environment_variables": {},
   "exception": null,
   "input_path": "__notebook__.ipynb",
   "output_path": "__notebook__.ipynb",
   "parameters": {},
   "start_time": "2023-02-26T18:16:17.385770",
   "version": "2.4.0"
  }
 },
 "nbformat": 4,
 "nbformat_minor": 5
}
